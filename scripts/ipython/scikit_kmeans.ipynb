{
 "metadata": {
  "name": "",
  "signature": "sha256:6b8e66f7774b11f0103af327c9dcea83e822d512b540de2930539418b9de56c2"
 },
 "nbformat": 3,
 "nbformat_minor": 0,
 "worksheets": [
  {
   "cells": [
    {
     "cell_type": "code",
     "collapsed": false,
     "input": [
      "print \"hello world!\""
     ],
     "language": "python",
     "metadata": {},
     "outputs": []
    }
   ],
   "metadata": {}
  }
 ]
}