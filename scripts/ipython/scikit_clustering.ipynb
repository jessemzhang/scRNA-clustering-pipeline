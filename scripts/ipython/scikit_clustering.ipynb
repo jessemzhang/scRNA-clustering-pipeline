{
 "metadata": {
  "name": "",
  "signature": "sha256:a3c690dd008ff0b326eb966d6f6d5045606614ebf0a89a83897f5ba971059905"
 },
 "nbformat": 3,
 "nbformat_minor": 0,
 "worksheets": [
  {
   "cells": [
    {
     "cell_type": "code",
     "collapsed": false,
     "input": [
      "%matplotlib inline"
     ],
     "language": "python",
     "metadata": {},
     "outputs": [],
     "prompt_number": 3
    },
    {
     "cell_type": "code",
     "collapsed": false,
     "input": [
      "import numpy as np\n",
      "import matplotlib.pyplot as plt\n",
      "from sklearn import cluster\n",
      "\n",
      "X = np.loadtxt('../../data/gene_abundances.txt')"
     ],
     "language": "python",
     "metadata": {},
     "outputs": [],
     "prompt_number": 67
    },
    {
     "cell_type": "code",
     "collapsed": false,
     "input": [
      "k_means = cluster.KMeans(n_clusters=3)\n",
      "k_means.fit(X)\n",
      "\n",
      "labels = k_means.labels_\n",
      "print labels\n"
     ],
     "language": "python",
     "metadata": {},
     "outputs": [
      {
       "output_type": "stream",
       "stream": "stdout",
       "text": [
        "[0 0 1 0 1 2 1 2 0 0 1 0 0 1 0 2 0 2 1 0 0 0 2 0 2 0 0 0 1 1 0 0 2 0 0 1 0\n",
        " 1 0 0 0 0 0 1 0 1 0 1 1 1 1 1 0 0 0 1 0 0 0 0 0 0 1 0 1 2 0 1 1 1 0 0 0 1\n",
        " 2 0 0 1 0 1 0 0 2 1 1 1 2 0 1 0 2 0 0 1 2 0 1 2 0 1 0 0 0 0 0 0 0 0 0 0 0\n",
        " 2 1 0 0 0 1 1 0 0 0 1 0 0 0 1 1 0 0 1 0 0 0 2 1 1 0 1 0 0 1 1 0 2 2 2 0 0\n",
        " 0 2 0 1 0 2 1 2 0 2 0 1 1 0 2 2 0 1 1 1 1 0 0 1 2 0 0 1 1 0 1 1 0 1 0 1 2\n",
        " 2 1 1 0 1 0 0 0 2 1 1 0 0 1 1 0 1 0 1 1 1 0 1 1 0 1 1 0 1 1 1 1 0 1 1 0 0\n",
        " 1 0 0 1 0 1 0 2 0 1 1 1 1 0 0 1 1 1 1 0 1 1 0 0 1 1 0 0 1 1 0 1 0 1 1 2 0\n",
        " 0 0 0 1 0 1 0 0 1 0 0 1 2 0 1 1 1 0 0 2 1 0 1 1 1 0 1 1 1 0 0 1 1 1 1 1 1\n",
        " 1 1 1 0 1 1 2 1 1 0 0 1 0 0 1 1 0 0 2 1 1 1 0 0 0 1 1 0 0 0]\n"
       ]
      }
     ],
     "prompt_number": 29
    },
    {
     "cell_type": "code",
     "collapsed": false,
     "input": [
      "a = np.unique(labels,return_counts=True)\n",
      "labels[labels==np.argmax(a[1])] = 10\n",
      "labels[labels!=10] = 0\n",
      "labels[labels==10] = 1\n",
      "print labels\n",
      "\n",
      " "
     ],
     "language": "python",
     "metadata": {},
     "outputs": [
      {
       "output_type": "stream",
       "stream": "stdout",
       "text": [
        "[1 1 0 1 0 1 0 1 1 1 0 1 1 0 1 1 1 1 0 1 1 1 1 1 1 1 1 1 0 0 1 1 1 1 1 0 1\n",
        " 0 1 1 1 1 1 0 1 0 1 0 0 0 0 0 1 1 1 0 1 1 1 1 1 1 0 1 0 1 1 0 0 0 1 1 1 0\n",
        " 1 1 1 0 1 0 1 1 1 0 0 0 1 1 0 1 1 1 1 0 1 1 0 1 1 0 1 1 1 1 1 1 1 1 1 1 1\n",
        " 1 0 1 1 1 0 0 1 1 1 0 1 1 1 0 0 1 1 0 1 1 1 1 0 0 1 0 1 1 0 0 1 1 1 1 1 1\n",
        " 1 1 1 0 1 1 0 1 1 1 1 0 0 1 1 1 1 0 0 0 0 1 1 0 1 1 1 0 0 1 0 0 1 0 1 0 1\n",
        " 1 0 0 1 0 1 1 1 1 0 0 1 1 0 0 1 0 1 0 0 0 1 0 0 1 0 0 1 0 0 0 0 1 0 0 1 1\n",
        " 0 1 1 0 1 0 1 1 1 0 0 0 0 1 1 0 0 0 0 1 0 0 1 1 0 0 1 1 0 0 1 0 1 0 0 1 1\n",
        " 1 1 1 0 1 0 1 1 0 1 1 0 1 1 0 0 0 1 1 1 0 1 0 0 0 1 0 0 0 1 1 0 0 0 0 0 0\n",
        " 0 0 0 1 0 0 1 0 0 1 1 0 1 1 0 0 1 1 1 0 0 0 1 1 1 0 0 1 1 1]\n"
       ]
      }
     ],
     "prompt_number": 31
    },
    {
     "cell_type": "code",
     "collapsed": false,
     "input": [
      "spectral = cluster.SpectralClustering(n_clusters=2,affinity='rbf')\n",
      "spectral.fit(X)"
     ],
     "language": "python",
     "metadata": {},
     "outputs": [
      {
       "metadata": {},
       "output_type": "pyout",
       "prompt_number": 55,
       "text": [
        "SpectralClustering(affinity='rbf', assign_labels='kmeans', coef0=1, degree=3,\n",
        "          eigen_solver=None, eigen_tol=0.0, gamma=1.0, kernel_params=None,\n",
        "          n_clusters=2, n_init=10, n_neighbors=10, random_state=None)"
       ]
      }
     ],
     "prompt_number": 55
    },
    {
     "cell_type": "code",
     "collapsed": false,
     "input": [
      "labels = spectral.labels_\n",
      "print np.unique(labels,return_counts=True)"
     ],
     "language": "python",
     "metadata": {},
     "outputs": [
      {
       "output_type": "stream",
       "stream": "stdout",
       "text": [
        "(array([0, 1], dtype=int32), array([ 49, 277]))\n"
       ]
      }
     ],
     "prompt_number": 57
    },
    {
     "cell_type": "code",
     "collapsed": false,
     "input": [
      "import sklearn.metrics\n",
      "D = sklearn.metrics.pairwise.pairwise_kernels(X,metric='rbf')\n",
      "print D"
     ],
     "language": "python",
     "metadata": {},
     "outputs": [
      {
       "output_type": "stream",
       "stream": "stdout",
       "text": [
        "[[ 1.          0.03260188  0.06233556 ...,  0.01693981  0.01370408\n",
        "   0.01921199]\n",
        " [ 0.03260188  1.          0.05409388 ...,  0.01872792  0.01208164\n",
        "   0.01274386]\n",
        " [ 0.06233556  0.05409388  1.         ...,  0.03190109  0.02884021\n",
        "   0.02404224]\n",
        " ..., \n",
        " [ 0.01693981  0.01872792  0.03190109 ...,  1.          0.01400964\n",
        "   0.01179771]\n",
        " [ 0.01370408  0.01208164  0.02884021 ...,  0.01400964  1.          0.00894966]\n",
        " [ 0.01921199  0.01274386  0.02404224 ...,  0.01179771  0.00894966  1.        ]]\n"
       ]
      }
     ],
     "prompt_number": 69
    },
    {
     "cell_type": "code",
     "collapsed": false,
     "input": [
      "%reset"
     ],
     "language": "python",
     "metadata": {},
     "outputs": [
      {
       "name": "stdout",
       "output_type": "stream",
       "stream": "stdout",
       "text": [
        "Once deleted, variables cannot be recovered. Proceed (y/[n])? y\n"
       ]
      }
     ],
     "prompt_number": 66
    }
   ],
   "metadata": {}
  }
 ]
}