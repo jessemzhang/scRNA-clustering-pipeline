{
 "metadata": {
  "name": ""
 },
 "nbformat": 3,
 "nbformat_minor": 0,
 "worksheets": [
  {
   "cells": [
    {
     "cell_type": "code",
     "collapsed": false,
     "input": [
      "import sys\n",
      "import numpy as np\n",
      "import scipy as sp\n",
      "\n",
      "# dictionary for mapping all cells                                                                                                                                                                        \n",
      "all_cells = np.loadtxt('/data/jessez/Gene_count_datasets/Cells/cells_all.txt',dtype=str);\n",
      "dictionary = dict(zip(all_cells, range(0,len(all_cells))))\n",
      "\n",
      "labels = np.loadtxt('/data/jessez/Gene_count_clustering_results/scikit_kmeans_X_htseq_noLog_DESeq_NoOutliers/labels/labels_X_htseq_noLog_DESeq_NoOutliers_71')\n",
      "labels_d1 = np.loadtxt('../../labels/labels_d1_truth.txt')\n",
      "labels_d2 = np.loadtxt('../../labels/labels_d2_truth.txt')\n",
      "\n",
      "cells = np.loadtxt('/data/jessez/Gene_count_datasets/Cells/cells_NoOutliers.txt',dtype=str);"
     ],
     "language": "python",
     "metadata": {},
     "outputs": [],
     "prompt_number": 15
    },
    {
     "cell_type": "code",
     "collapsed": false,
     "input": [
      "# cut down the truth indices to only those of cells in labels\n",
      "ind = np.array(map(lambda x:dictionary[x],cells))\n",
      "labels_d1 = labels_d1[ind]\n",
      "labels_d2 = labels_d2[ind]\n",
      "print ind"
     ],
     "language": "python",
     "metadata": {},
     "outputs": [
      {
       "output_type": "stream",
       "stream": "stdout",
       "text": [
        "[  0   1   2   3   4   6   8   9  10  11  12  13  15  17  18  19  20  22\n",
        "  24  25  26  27  28  29  30  31  32  33  34  35  36  37  38  39  40  41\n",
        "  42  43  44  45  46  47  48  49  50  51  52  53  54  55  56  57  58  59\n",
        "  60  61  62  63  65  66  67  68  69  70  71  73  74  75  76  77  78  79\n",
        "  80  81  83  85  86  87  89  90  91  92  93  94  95  96  97  98  99 100\n",
        " 101 102 103 104 105 106 107 108 110 111 112 113 114 115 116 117 118 119\n",
        " 120 121 122 123 124 125 126 127 128 130 131 132 133 134 135 136 137 138\n",
        " 139 141 142 143 145 147 148 149 151 153 155 156 157 158 159 160 161 162\n",
        " 163 164 165 167 168 169 170 171 172 173 174 175 176 177 180 181 182 183\n",
        " 184 185 186 187 188 189 190 191 192 193 194 195 196 197 198 199 200 201\n",
        " 202 203 204 205 206 207 208 209 210 211 212 213 214 215 216 217 218 219\n",
        " 220 221 222 224 225 226 227 228 229 230 231 232 233 234 235 236 237 238\n",
        " 239 240 241 242 243 244 245 246 247 248 249 250 251 252 253 254 255 256\n",
        " 257 258 259 260 261 262 263 265 266 267 268 269 270 272 273 274 275 276\n",
        " 277 278 279 280 281 282 283 284 285 286 287 288 289 290 291 292 293 294\n",
        " 296 297 298 299 300 301 302 303 304 305 306 308 309 310 311 312 313 314\n",
        " 315 316 317 318 319 320 321 322 323 324 325]\n"
       ]
      }
     ],
     "prompt_number": 16
    },
    {
     "cell_type": "code",
     "collapsed": false,
     "input": [
      "d1_check = labels[np.where(labels_d1)] # should all be 1 or 0 if good labels\n",
      "d2_check = labels[np.where(labels_d2)] # should all be 1 or 0 if good labels\n",
      "print d1_check\n",
      "print d2_check"
     ],
     "language": "python",
     "metadata": {},
     "outputs": [
      {
       "output_type": "stream",
       "stream": "stdout",
       "text": [
        "[ 0.  0.  0.  0.  0.  0.  0.  0.  0.  0.  0.  0.  0.  0.  0.  0.  0.  0.\n",
        "  0.  0.  0.  0.  0.  0.  0.  0.  0.  0.  0.  0.  0.  0.  0.  0.  0.  0.\n",
        "  0.  0.  0.  1.  0.  0.  0.  0.  0.  0.  0.  0.  0.  0.  0.  0.  0.  0.\n",
        "  0.  0.  0.  0.  0.  0.  0.  0.  0.  0.  0.  0.  0.  0.  0.  0.  0.  1.\n",
        "  0.  0.  0.  0.  0.  0.  0.  0.  0.  0.  1.  0.  0.  0.  0.  0.  1.  0.\n",
        "  1.  0.  0.  0.  0.  0.  1.  1.  0.  1.  0.  1.  0.  1.  0.  0.  0.  0.\n",
        "  0.  0.  0.  0.  0.  0.  0.  0.  0.  0.  0.  0.  1.  0.  0.  0.  1.  0.\n",
        "  0.  0.  0.  0.  0.  0.  1.  0.  1.  0.  0.  0.  0.  0.  0.  0.  0.  0.\n",
        "  0.  0.  0.]\n",
        "[ 0.  1.  0.  1.  0.  0.  1.  1.  0.  1.  0.  0.  0.  0.  0.  1.  0.  0.\n",
        "  1.  0.  0.  0.  0.  0.  0.  0.  0.  1.  1.  1.  0.  1.  1.  1.  1.  1.\n",
        "  0.  0.  1.  1.  1.  0.  1.  1.  0.  1.  0.  1.  1.  0.  1.  1.  1.  1.\n",
        "  1.  1.  1.  1.  1.  0.  1.  1.  1.  0.  0.  0.  1.  0.]\n"
       ]
      }
     ],
     "prompt_number": 17
    },
    {
     "cell_type": "code",
     "collapsed": false,
     "input": [
      "# compute hamming distance..\n",
      "\n",
      "# if 0 is d1 and 1 is d2, then # errors is:\n",
      "err_0_is_d1 = np.sum(d1_check == 1)+np.sum(d2_check == 0)\n",
      "# otherwise, 1 is d1 and 2 is d2, and the # errors is:\n",
      "err_1_is_d1 = np.sum(d1_check == 0)+np.sum(d2_check == 1)\n",
      "\n",
      "# output the error rate (choose min)\n",
      "print np.min([err_0_is_d1,err_1_is_d1])/float(np.shape(d1_check)[0]+np.shape(d2_check)[0])\n"
     ],
     "language": "python",
     "metadata": {},
     "outputs": [
      {
       "output_type": "stream",
       "stream": "stdout",
       "text": [
        "0.213953488372\n"
       ]
      }
     ],
     "prompt_number": 26
    }
   ],
   "metadata": {}
  }
 ]
}