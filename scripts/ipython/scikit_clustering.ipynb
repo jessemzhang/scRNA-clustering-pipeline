{
 "metadata": {
  "name": "",
  "signature": "sha256:a3c690dd008ff0b326eb966d6f6d5045606614ebf0a89a83897f5ba971059905"
 },
 "nbformat": 3,
 "nbformat_minor": 0,
 "worksheets": [
  {
   "cells": [
    {
     "cell_type": "code",
     "collapsed": false,
     "input": [
      "%matplotlib inline"
     ],
     "language": "python",
     "metadata": {},
     "outputs": [],
     "prompt_number": 3
    },
    {
     "cell_type": "code",
     "collapsed": false,
     "input": [
      "import numpy as np\n",
      "import matplotlib.pyplot as plt\n",
      "from sklearn import cluster\n",
      "\n",
      "# X = np.loadtxt('/data/jessez/Gene_count_datasets/Datasets/batch_single/X_htseq_0mean1var_Log_DESeq_Meisam_34')\n",
      "# X = np.loadtxt('/data/jessez/Gene_count_datasets/Datasets/batch_all/X_htseq_noLog_DESeq_NoOutliers')\n",
      "X = np.loadtxt('/data/jessez/Gene_count_datasets/Datasets/batch_all/X_RandGenes')\n",
      "               \n",
      "scale = np.transpose(np.tile(np.sqrt(np.sum(np.square(X),1)),(np.shape(X)[1],1)))\n",
      "Y = np.divide(X,scale)\n",
      "Z = np.dot(Y,np.transpose(Y))\n",
      "# Z = np.absolute(Z)\n",
      "\n",
      "spectral = cluster.SpectralClustering(n_clusters=2,affinity='precomputed')\n",
      "spectral.fit(Z)\n",
      "labels = spectral.labels_\n",
      "print labels"
     ],
     "language": "python",
     "metadata": {},
     "outputs": [
      {
       "ename": "ValueError",
       "evalue": "Input contains NaN, infinity or a value too large for dtype('float64').",
       "output_type": "pyerr",
       "traceback": [
        "\u001b[0;31m---------------------------------------------------------------------------\u001b[0m\n\u001b[0;31mValueError\u001b[0m                                Traceback (most recent call last)",
        "\u001b[0;32m<ipython-input-5-11e05307615e>\u001b[0m in \u001b[0;36m<module>\u001b[0;34m()\u001b[0m\n\u001b[1;32m     13\u001b[0m \u001b[0;34m\u001b[0m\u001b[0m\n\u001b[1;32m     14\u001b[0m \u001b[0mspectral\u001b[0m \u001b[0;34m=\u001b[0m \u001b[0mcluster\u001b[0m\u001b[0;34m.\u001b[0m\u001b[0mSpectralClustering\u001b[0m\u001b[0;34m(\u001b[0m\u001b[0mn_clusters\u001b[0m\u001b[0;34m=\u001b[0m\u001b[0;36m2\u001b[0m\u001b[0;34m,\u001b[0m\u001b[0maffinity\u001b[0m\u001b[0;34m=\u001b[0m\u001b[0;34m'precomputed'\u001b[0m\u001b[0;34m)\u001b[0m\u001b[0;34m\u001b[0m\u001b[0m\n\u001b[0;32m---> 15\u001b[0;31m \u001b[0mspectral\u001b[0m\u001b[0;34m.\u001b[0m\u001b[0mfit\u001b[0m\u001b[0;34m(\u001b[0m\u001b[0mZ\u001b[0m\u001b[0;34m)\u001b[0m\u001b[0;34m\u001b[0m\u001b[0m\n\u001b[0m\u001b[1;32m     16\u001b[0m \u001b[0mlabels\u001b[0m \u001b[0;34m=\u001b[0m \u001b[0mspectral\u001b[0m\u001b[0;34m.\u001b[0m\u001b[0mlabels_\u001b[0m\u001b[0;34m\u001b[0m\u001b[0m\n\u001b[1;32m     17\u001b[0m \u001b[0;32mprint\u001b[0m \u001b[0mlabels\u001b[0m\u001b[0;34m\u001b[0m\u001b[0m\n",
        "\u001b[0;32m/usr/local/lib/python2.7/dist-packages/sklearn/cluster/spectral.pyc\u001b[0m in \u001b[0;36mfit\u001b[0;34m(self, X, y)\u001b[0m\n\u001b[1;32m    417\u001b[0m         \"\"\"\n\u001b[1;32m    418\u001b[0m         X = check_array(X, accept_sparse=['csr', 'csc', 'coo'],\n\u001b[0;32m--> 419\u001b[0;31m                         dtype=np.float64)\n\u001b[0m\u001b[1;32m    420\u001b[0m         \u001b[0;32mif\u001b[0m \u001b[0mX\u001b[0m\u001b[0;34m.\u001b[0m\u001b[0mshape\u001b[0m\u001b[0;34m[\u001b[0m\u001b[0;36m0\u001b[0m\u001b[0;34m]\u001b[0m \u001b[0;34m==\u001b[0m \u001b[0mX\u001b[0m\u001b[0;34m.\u001b[0m\u001b[0mshape\u001b[0m\u001b[0;34m[\u001b[0m\u001b[0;36m1\u001b[0m\u001b[0;34m]\u001b[0m \u001b[0;32mand\u001b[0m \u001b[0mself\u001b[0m\u001b[0;34m.\u001b[0m\u001b[0maffinity\u001b[0m \u001b[0;34m!=\u001b[0m \u001b[0;34m\"precomputed\"\u001b[0m\u001b[0;34m:\u001b[0m\u001b[0;34m\u001b[0m\u001b[0m\n\u001b[1;32m    421\u001b[0m             warnings.warn(\"The spectral clustering API has changed. ``fit``\"\n",
        "\u001b[0;32m/usr/local/lib/python2.7/dist-packages/sklearn/utils/validation.pyc\u001b[0m in \u001b[0;36mcheck_array\u001b[0;34m(array, accept_sparse, dtype, order, copy, force_all_finite, ensure_2d, allow_nd, ensure_min_samples, ensure_min_features)\u001b[0m\n\u001b[1;32m    350\u001b[0m                              array.ndim)\n\u001b[1;32m    351\u001b[0m         \u001b[0;32mif\u001b[0m \u001b[0mforce_all_finite\u001b[0m\u001b[0;34m:\u001b[0m\u001b[0;34m\u001b[0m\u001b[0m\n\u001b[0;32m--> 352\u001b[0;31m             \u001b[0m_assert_all_finite\u001b[0m\u001b[0;34m(\u001b[0m\u001b[0marray\u001b[0m\u001b[0;34m)\u001b[0m\u001b[0;34m\u001b[0m\u001b[0m\n\u001b[0m\u001b[1;32m    353\u001b[0m \u001b[0;34m\u001b[0m\u001b[0m\n\u001b[1;32m    354\u001b[0m     \u001b[0mshape_repr\u001b[0m \u001b[0;34m=\u001b[0m \u001b[0m_shape_repr\u001b[0m\u001b[0;34m(\u001b[0m\u001b[0marray\u001b[0m\u001b[0;34m.\u001b[0m\u001b[0mshape\u001b[0m\u001b[0;34m)\u001b[0m\u001b[0;34m\u001b[0m\u001b[0m\n",
        "\u001b[0;32m/usr/local/lib/python2.7/dist-packages/sklearn/utils/validation.pyc\u001b[0m in \u001b[0;36m_assert_all_finite\u001b[0;34m(X)\u001b[0m\n\u001b[1;32m     50\u001b[0m             and not np.isfinite(X).all()):\n\u001b[1;32m     51\u001b[0m         raise ValueError(\"Input contains NaN, infinity\"\n\u001b[0;32m---> 52\u001b[0;31m                          \" or a value too large for %r.\" % X.dtype)\n\u001b[0m\u001b[1;32m     53\u001b[0m \u001b[0;34m\u001b[0m\u001b[0m\n\u001b[1;32m     54\u001b[0m \u001b[0;34m\u001b[0m\u001b[0m\n",
        "\u001b[0;31mValueError\u001b[0m: Input contains NaN, infinity or a value too large for dtype('float64')."
       ]
      }
     ],
     "prompt_number": 5
    },
    {
     "cell_type": "code",
     "collapsed": false,
     "input": [],
     "language": "python",
     "metadata": {},
     "outputs": [
      {
       "metadata": {},
       "output_type": "pyout",
       "prompt_number": 69,
       "text": [
        "array([[  1.00000000e+000,   1.49360298e-128,   4.35515733e-063, ...,\n",
        "          1.92485301e-120,   7.72499471e-075,   1.50276789e-214],\n",
        "       [  1.49360298e-128,   1.00000000e+000,   2.88058152e-153, ...,\n",
        "          1.69249534e-251,   2.26828587e-143,   0.00000000e+000],\n",
        "       [  4.35515733e-063,   2.88058152e-153,   1.00000000e+000, ...,\n",
        "          1.62215759e-131,   2.71359929e-088,   2.47472518e-248],\n",
        "       ..., \n",
        "       [  1.92485301e-120,   1.69249534e-251,   1.62215759e-131, ...,\n",
        "          1.00000000e+000,   1.57586949e-138,   6.62564161e-281],\n",
        "       [  7.72499471e-075,   2.26828587e-143,   2.71359929e-088, ...,\n",
        "          1.57586949e-138,   1.00000000e+000,   2.48695341e-185],\n",
        "       [  1.50276789e-214,   0.00000000e+000,   2.47472518e-248, ...,\n",
        "          6.62564161e-281,   2.48695341e-185,   1.00000000e+000]])"
       ]
      }
     ],
     "prompt_number": 69
    },
    {
     "cell_type": "code",
     "collapsed": false,
     "input": [],
     "language": "python",
     "metadata": {},
     "outputs": [
      {
       "metadata": {},
       "output_type": "pyout",
       "prompt_number": 42,
       "text": [
        "array([[  1.00000000e+00,   7.83544186e-02,   2.69831861e-02, ...,\n",
        "          1.21037030e-04,   1.04791167e-03,   5.31739896e-01],\n",
        "       [  7.83544186e-02,   1.00000000e+00,   7.52161008e-01, ...,\n",
        "          2.01644774e-03,   3.04120497e-02,   3.74054376e-03],\n",
        "       [  2.69831861e-02,   7.52161008e-01,   1.00000000e+00, ...,\n",
        "          3.21883496e-03,   5.25147119e-02,   7.39713044e-04],\n",
        "       ..., \n",
        "       [  1.21037030e-04,   2.01644774e-03,   3.21883496e-03, ...,\n",
        "          1.00000000e+00,   6.07171503e-01,   4.11641352e-06],\n",
        "       [  1.04791167e-03,   3.04120497e-02,   5.25147119e-02, ...,\n",
        "          6.07171503e-01,   1.00000000e+00,   2.64875829e-05],\n",
        "       [  5.31739896e-01,   3.74054376e-03,   7.39713044e-04, ...,\n",
        "          4.11641352e-06,   2.64875829e-05,   1.00000000e+00]])"
       ]
      }
     ],
     "prompt_number": 42
    },
    {
     "cell_type": "code",
     "collapsed": false,
     "input": [
      "np.shape(X)"
     ],
     "language": "python",
     "metadata": {},
     "outputs": [
      {
       "metadata": {},
       "output_type": "pyout",
       "prompt_number": 41,
       "text": [
        "(79, 9)"
       ]
      }
     ],
     "prompt_number": 41
    }
   ],
   "metadata": {}
  }
 ]
}