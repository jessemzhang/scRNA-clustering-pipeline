{
 "metadata": {
  "name": "",
  "signature": "sha256:a3c690dd008ff0b326eb966d6f6d5045606614ebf0a89a83897f5ba971059905"
 },
 "nbformat": 3,
 "nbformat_minor": 0,
 "worksheets": [
  {
   "cells": [
    {
     "cell_type": "code",
     "collapsed": false,
     "input": [
      "%matplotlib inline"
     ],
     "language": "python",
     "metadata": {},
     "outputs": [],
     "prompt_number": 3
    },
    {
     "cell_type": "code",
     "collapsed": false,
     "input": [
      "import numpy as np\n",
      "import matplotlib.pyplot as plt\n",
      "from sklearn import cluster\n",
      "\n",
      "X = np.loadtxt('/data/jessez/Gene_count_datasets/Datasets/batch_single/X_htseq_0mean1var_Log_DESeq_Meisam_34')\n",
      "# X = np.loadtxt('/data/jessez/Gene_count_datasets/Datasets/batch_all/X_htseq_noLog_DESeq_NoOutliers')\n",
      "\n",
      "scale = np.transpose(np.tile(np.sqrt(np.sum(np.square(X),1)),(np.shape(X)[1],1)))\n",
      "Y = np.divide(X,scale)\n",
      "Z = np.dot(Y,np.transpose(Y))\n",
      "\n",
      "spectral = cluster.SpectralClustering(n_clusters=2,affinity='precomputed')\n",
      "spectral.fit(Z)\n",
      "labels = spectral.labels_\n",
      "print labels"
     ],
     "language": "python",
     "metadata": {},
     "outputs": [
      {
       "output_type": "stream",
       "stream": "stdout",
       "text": [
        "[1 1 1 1 1 1 0 1 1 0 0 1 1 1 1 0 1 0 1 1 1 0 1 1 0 0 0 0 0 0 1 1 0 0 0 1 0\n",
        " 0 0 1 1 1 1 1 1 1 0 0 0 1 1 0 0 0 0 0 1 1 1 1 1 1 0 0 1 0 0 0 1 0 0 1 0 0\n",
        " 0 1 1 0 0 0 0 0 1 0 0 1 0 1 0 0 1 0 1 0 0 0 0 0 1 0 1 1 0 0 1 1 1 0 0 0 1\n",
        " 0 0 0 1 0 0 1 0 0 0 1 1 1 1 0 0 1 0 0 0 0 0 1 0 0 0 1 1 1 1 0 0 0 0 0 0 1\n",
        " 1 1 0 0 1 0 0 0 1 0 0 1 0 1 0 1 0 1 0 1 0 0 0 1 0 1 1 0 1 0 0 1 0 1 1 1 1\n",
        " 0 1 0 1 1 0 1 1 0 1 0 1 0 0 0 0 0 0 1 1 1 1 0 0 1 1 1 0 0 1 1 0 0 0 0 1 0\n",
        " 0 1 0 0 0 0 1 0 1 1 1 0 0 0 0 0 0 1 0 0 0 0 0 0 0 1 0 1 1 1 0 0 0 1 1 0 1\n",
        " 0 1 1 1 0 0 1 1 1 1 1 0 0 1 0 0 1 0 1 1 0 0 1 1 1 0 1 0 0 1 1 1 0 0 0 0 0\n",
        " 0 0 0]\n"
       ]
      }
     ],
     "prompt_number": 65
    }
   ],
   "metadata": {}
  }
 ]
}